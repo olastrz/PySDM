{
 "cells": [
  {
   "cell_type": "markdown",
   "id": "a491199946368a38",
   "metadata": {},
   "source": [
    "[![preview notebook](https://img.shields.io/static/v1?label=render%20on&logo=github&color=87ce3e&message=GitHub)](https://github.com/open-atmos/PySDM/blob/main/examples/PySDM_examples/_HOWTOs/paraview_hello_world.ipynb)\n",
    "[![launch on mybinder.org](https://mybinder.org/badge_logo.svg)](https://mybinder.org/v2/gh/open-atmos/PySDM.git/main?urlpath=lab/tree/examples/PySDM_examples/_HOWTOs/paraview_hello_world.ipynb)\n",
    "[![launch on Colab](https://colab.research.google.com/assets/colab-badge.svg)](https://colab.research.google.com/github/open-atmos/PySDM/blob/main/examples/PySDM_examples/_HOWTOs/paraview_hello_world.ipynb)"
   ]
  },
  {
   "cell_type": "markdown",
   "id": "35dba30bf42bd326",
   "metadata": {},
   "source": [
    "### TODO #1417 add description\n",
    "### TODO #1490 fix installation on binder\n",
    "For more informations about Paraview please refere to [Paraview documentation](https://docs.paraview.org/en/latest/Tutorials/SelfDirectedTutorial/)"
   ]
  },
  {
   "cell_type": "code",
   "execution_count": 23,
   "id": "93289adf665b5c7f",
   "metadata": {
    "ExecuteTime": {
     "end_time": "2025-01-06T20:42:41.598955Z",
     "start_time": "2025-01-06T20:42:41.591955Z"
    }
   },
   "outputs": [],
   "source": [
    "import sys\n",
    "if 'google.colab' in sys.modules:\n",
    "    !pip --quiet install open-atmos-jupyter-utils\n",
    "    from open_atmos_jupyter_utils import pip_install_on_colab\n",
    "    pip_install_on_colab('PySDM-examples')"
   ]
  },
  {
   "cell_type": "code",
   "execution_count": 24,
   "id": "e3537b5faa81e11f",
   "metadata": {
    "ExecuteTime": {
     "end_time": "2025-01-06T20:42:48.835403Z",
     "start_time": "2025-01-06T20:42:42.286569Z"
    }
   },
   "outputs": [],
   "source": [
    "import os\n",
    "import subprocess\n",
    "SUBPROCESS_ENV = os.environ.copy()\n",
    "\n",
    "if 'google.colab' in sys.modules:\n",
    "    !apt-get install -qq ghostscript\n",
    "    !wget -nv \"https://paraview.org/paraview-downloads/download.php?submit=Download&version=v5.13&type=binary&os=Linux&downloadFile=ParaView-5.13.1-egl-MPI-Linux-Python3.10-x86_64.tar.gz\" -O paraview.tar.gz\n",
    "    !tar xzf paraview.tar.gz\n",
    "    SUBPROCESS_ENV['PATH'] += ':' + subprocess.check_output(['bash', '-c', \"echo `pwd`/`dirname ParaView*/bin/pvpython`\"], text=True)[:-1]\n",
    "    \n",
    "    # check if Ghostscript's ps2pdf works\n",
    "    assert subprocess.check_call(['type', 'ps2pdf'], shell=True) == 0\n",
    "    \n",
    "# check if Paraview's pvpython works\n",
    "assert subprocess.check_call(['pvpython', '--version'], env=SUBPROCESS_ENV) == 0\n",
    "assert subprocess.check_call(['pvpython', '-c', 'import paraview'], env=SUBPROCESS_ENV) == 0"
   ]
  },
  {
   "cell_type": "code",
   "execution_count": 25,
   "id": "ee889545",
   "metadata": {
    "ExecuteTime": {
     "end_time": "2025-01-06T20:42:48.845075Z",
     "start_time": "2025-01-06T20:42:48.842291Z"
    }
   },
   "outputs": [],
   "source": [
    "from PySDM_examples.Arabas_et_al_2015 import Settings, SpinUp\n",
    "from PySDM_examples.Szumowski_et_al_1998 import Simulation, Storage\n",
    "from PySDM.exporters import VTKExporter\n",
    "from PySDM_examples.utils import ProgBarController\n",
    "from PySDM import products as PySDM_products\n",
    "import PySDM_examples\n",
    "import glob\n",
    "import platform\n",
    "import pathlib"
   ]
  },
  {
   "cell_type": "code",
   "execution_count": 26,
   "id": "f0d2581f",
   "metadata": {
    "ExecuteTime": {
     "end_time": "2025-01-06T20:42:49.673689Z",
     "start_time": "2025-01-06T20:42:49.664256Z"
    }
   },
   "outputs": [],
   "source": [
    "products = [\n",
    "    PySDM_products.EffectiveRadius(unit='um'),\n",
    "    PySDM_products.FlowVelocityComponent(component = 0, name = 'cx'),\n",
    "    PySDM_products.FlowVelocityComponent(component = 1, name = 'cy')\n",
    "]"
   ]
  },
  {
   "cell_type": "markdown",
   "id": "25232d9f",
   "metadata": {},
   "source": [
    "##### 1. run a simulations saving output to VTK files"
   ]
  },
  {
   "cell_type": "code",
   "execution_count": 27,
   "id": "74c00944",
   "metadata": {
    "ExecuteTime": {
     "end_time": "2025-01-06T20:43:31.937868Z",
     "start_time": "2025-01-06T20:42:51.814553Z"
    }
   },
   "outputs": [],
   "source": [
    "settings = Settings()\n",
    "storage = Storage()\n",
    "simulation = Simulation(settings, storage, SpinUp=SpinUp)\n",
    "simulation.reinit(products)\n",
    "\n",
    "vtk_exporter = VTKExporter(path='.')    \n",
    "\n",
    "simulation.run(ProgBarController(\"progress:\"), vtk_exporter=vtk_exporter)\n",
    "vtk_exporter.write_pvd()"
   ]
  },
  {
   "cell_type": "markdown",
   "id": "066f9c18",
   "metadata": {},
   "source": [
    "#### 2. execute the script using `pvpython`"
   ]
  },
  {
   "cell_type": "code",
   "execution_count": null,
   "id": "23e0cf61",
   "metadata": {
    "ExecuteTime": {
     "end_time": "2025-01-06T20:44:32.623050Z",
     "start_time": "2025-01-06T20:44:22.257021Z"
    }
   },
   "outputs": [
    {
     "name": "stdout",
     "output_type": "stream",
     "text": [
      "Traceback (most recent call last):\n",
      "  File \"C:\\Users\\strza\\Desktop\\PySDM-2\\examples\\PySDM_examples\\utils\\pvanim.py\", line 61, in <module>\n",
      "    sd_attributespvd = pvs.OpenDataFile(args.attributes_path)\n",
      "  File \"C:\\Program Files\\ParaView 5.13.1\\bin\\Lib\\site-packages\\paraview\\simple.py\", line 1693, in OpenDataFile\n",
      "    raise RuntimeError(msg)\n",
      "RuntimeError: File not readable: c:\\Users\\strza\\Desktop\\PySDM-2\\examples\\PySDM_examples\\_HOWTOs\\output\\sd_attributes.pvdd \n",
      "\n"
     ]
    },
    {
     "ename": "AssertionError",
     "evalue": "",
     "output_type": "error",
     "traceback": [
      "\u001b[1;31m---------------------------------------------------------------------------\u001b[0m",
      "\u001b[1;31mCalledProcessError\u001b[0m                        Traceback (most recent call last)",
      "Cell \u001b[1;32mIn[28], line 6\u001b[0m\n\u001b[0;32m      5\u001b[0m \u001b[38;5;28;01mtry\u001b[39;00m:\n\u001b[1;32m----> 6\u001b[0m     result \u001b[38;5;241m=\u001b[39m subprocess\u001b[38;5;241m.\u001b[39mrun(\n\u001b[0;32m      7\u001b[0m         [\n\u001b[0;32m      8\u001b[0m             \u001b[38;5;124m\"\u001b[39m\u001b[38;5;124mpvpython\u001b[39m\u001b[38;5;124m\"\u001b[39m,\n\u001b[0;32m      9\u001b[0m             \u001b[38;5;28mstr\u001b[39m(pvanim),\n\u001b[0;32m     10\u001b[0m             \u001b[38;5;28mstr\u001b[39m(product),\n\u001b[0;32m     11\u001b[0m             \u001b[38;5;28mstr\u001b[39m(attributes),\n\u001b[0;32m     12\u001b[0m         ],\n\u001b[0;32m     13\u001b[0m         check\u001b[38;5;241m=\u001b[39m\u001b[38;5;28;01mTrue\u001b[39;00m, \u001b[38;5;66;03m#platform.system() != \"Windows\",\u001b[39;00m\n\u001b[0;32m     14\u001b[0m         capture_output\u001b[38;5;241m=\u001b[39m\u001b[38;5;28;01mTrue\u001b[39;00m,\n\u001b[0;32m     15\u001b[0m         text\u001b[38;5;241m=\u001b[39m\u001b[38;5;28;01mTrue\u001b[39;00m,\n\u001b[0;32m     16\u001b[0m         env\u001b[38;5;241m=\u001b[39mSUBPROCESS_ENV,\n\u001b[0;32m     17\u001b[0m     )\n\u001b[0;32m     18\u001b[0m \u001b[38;5;28;01mexcept\u001b[39;00m subprocess\u001b[38;5;241m.\u001b[39mCalledProcessError \u001b[38;5;28;01mas\u001b[39;00m e:\n",
      "File \u001b[1;32mc:\\Users\\strza\\anaconda3\\Lib\\subprocess.py:571\u001b[0m, in \u001b[0;36mrun\u001b[1;34m(input, capture_output, timeout, check, *popenargs, **kwargs)\u001b[0m\n\u001b[0;32m    570\u001b[0m     \u001b[38;5;28;01mif\u001b[39;00m check \u001b[38;5;129;01mand\u001b[39;00m retcode:\n\u001b[1;32m--> 571\u001b[0m         \u001b[38;5;28;01mraise\u001b[39;00m CalledProcessError(retcode, process\u001b[38;5;241m.\u001b[39margs,\n\u001b[0;32m    572\u001b[0m                                  output\u001b[38;5;241m=\u001b[39mstdout, stderr\u001b[38;5;241m=\u001b[39mstderr)\n\u001b[0;32m    573\u001b[0m \u001b[38;5;28;01mreturn\u001b[39;00m CompletedProcess(process\u001b[38;5;241m.\u001b[39margs, retcode, stdout, stderr)\n",
      "\u001b[1;31mCalledProcessError\u001b[0m: Command '['pvpython', 'C:\\\\Users\\\\strza\\\\Desktop\\\\PySDM-2\\\\examples\\\\PySDM_examples\\\\utils\\\\pvanim.py', 'c:\\\\Users\\\\strza\\\\Desktop\\\\PySDM-2\\\\examples\\\\PySDM_examples\\\\_HOWTOs\\\\output\\\\sd_products.pvd', 'c:\\\\Users\\\\strza\\\\Desktop\\\\PySDM-2\\\\examples\\\\PySDM_examples\\\\_HOWTOs\\\\output\\\\sd_attributes.pvdd']' returned non-zero exit status 1.",
      "\nDuring handling of the above exception, another exception occurred:\n",
      "\u001b[1;31mAssertionError\u001b[0m                            Traceback (most recent call last)",
      "Cell \u001b[1;32mIn[28], line 20\u001b[0m\n\u001b[0;32m     18\u001b[0m \u001b[38;5;28;01mexcept\u001b[39;00m subprocess\u001b[38;5;241m.\u001b[39mCalledProcessError \u001b[38;5;28;01mas\u001b[39;00m e:\n\u001b[0;32m     19\u001b[0m     \u001b[38;5;28mprint\u001b[39m(e\u001b[38;5;241m.\u001b[39mstderr)\n\u001b[1;32m---> 20\u001b[0m     \u001b[38;5;28;01massert\u001b[39;00m \u001b[38;5;28;01mFalse\u001b[39;00m\n",
      "\u001b[1;31mAssertionError\u001b[0m: "
     ]
    }
   ],
   "source": [
    "product = pathlib.Path(\"./output/sd_products.pvd\").absolute()\n",
    "attributes = pathlib.Path(\"./output/sd_attributes.pvd\").absolute()\n",
    "pvanim = pathlib.Path(PySDM_examples.__file__).parent / \"utils\" / \"pvanim.py\"\n",
    "\n",
    "try:\n",
    "    result = subprocess.run(\n",
    "        [\n",
    "            \"pvpython\",\n",
    "            str(pvanim),\n",
    "            str(product),\n",
    "            str(attributes),\n",
    "        ],\n",
    "        check=True, #platform.system() != \"Windows\",\n",
    "        capture_output=True,\n",
    "        text=True,\n",
    "        env=SUBPROCESS_ENV,\n",
    "    )\n",
    "except subprocess.CalledProcessError as e:\n",
    "    print(e.stderr)\n",
    "    assert False"
   ]
  },
  {
   "cell_type": "markdown",
   "id": "8a95f135",
   "metadata": {},
   "source": [
    "#### 3. reduce file size for generated pdf files"
   ]
  },
  {
   "cell_type": "code",
   "execution_count": null,
   "id": "3e170fdc",
   "metadata": {
    "ExecuteTime": {
     "end_time": "2025-01-06T20:44:32.623050Z",
     "start_time": "2025-01-06T20:44:22.257021Z"
    }
   },
   "outputs": [],
   "source": [
    "if platform.system() != 'Windows':\n",
    "    for file in glob.glob('output/anim_frame_*.pdf'):\n",
    "        subprocess.run(['ps2pdf', file, file+'_'], capture_output=True, check=True)\n",
    "        subprocess.run(['mv', file+'_', file], check=True)"
   ]
  },
  {
   "cell_type": "code",
   "execution_count": null,
   "id": "9d3e4a35",
   "metadata": {
    "ExecuteTime": {
     "end_time": "2025-01-06T20:42:10.669031Z",
     "start_time": "2025-01-06T20:42:10.667667Z"
    }
   },
   "outputs": [],
   "source": []
  }
 ],
 "metadata": {
  "kernelspec": {
   "display_name": "base",
   "language": "python",
   "name": "python3"
  },
  "language_info": {
   "codemirror_mode": {
    "name": "ipython",
    "version": 3
   },
   "file_extension": ".py",
   "mimetype": "text/x-python",
   "name": "python",
   "nbconvert_exporter": "python",
   "pygments_lexer": "ipython3",
   "version": "3.12.3"
  }
 },
 "nbformat": 4,
 "nbformat_minor": 5
}
