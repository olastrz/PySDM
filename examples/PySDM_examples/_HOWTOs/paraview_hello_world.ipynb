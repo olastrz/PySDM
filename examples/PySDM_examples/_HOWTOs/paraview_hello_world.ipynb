{
 "cells": [
  {
   "cell_type": "markdown",
   "id": "a491199946368a38",
   "metadata": {},
   "source": [
    "[![preview notebook](https://img.shields.io/static/v1?label=render%20on&logo=github&color=87ce3e&message=GitHub)](https://github.com/open-atmos/PySDM/blob/main/examples/PySDM_examples/_HOWTOs/paraview_hello_world.ipynb)\n",
    "[![launch on mybinder.org](https://mybinder.org/badge_logo.svg)](https://mybinder.org/v2/gh/open-atmos/PySDM.git/main?urlpath=lab/tree/examples/PySDM_examples/_HOWTOs/paraview_hello_world.ipynb)\n",
    "[![launch on Colab](https://colab.research.google.com/assets/colab-badge.svg)](https://colab.research.google.com/github/open-atmos/PySDM/blob/main/examples/PySDM_examples/_HOWTOs/paraview_hello_world.ipynb)"
   ]
  },
  {
   "cell_type": "markdown",
   "id": "35dba30bf42bd326",
   "metadata": {},
   "source": [
    "### TODO #1417 add description\n",
    "### TODO #1490 fix installation on binder\n",
    "For more informations about Paraview please refere to [Paraview documentation](https://docs.paraview.org/en/latest/Tutorials/SelfDirectedTutorial/)"
   ]
  },
  {
   "cell_type": "code",
   "execution_count": 3,
   "id": "93289adf665b5c7f",
   "metadata": {
    "ExecuteTime": {
     "end_time": "2025-01-06T20:42:41.598955Z",
     "start_time": "2025-01-06T20:42:41.591955Z"
    }
   },
   "outputs": [],
   "source": [
    "import sys\n",
    "if 'google.colab' in sys.modules:\n",
    "    !pip --quiet install open-atmos-jupyter-utils\n",
    "    from open_atmos_jupyter_utils import pip_install_on_colab\n",
    "    pip_install_on_colab('PySDM-examples')"
   ]
  },
  {
   "cell_type": "code",
   "execution_count": 4,
   "id": "e3537b5faa81e11f",
   "metadata": {
    "ExecuteTime": {
     "end_time": "2025-01-06T20:42:48.835403Z",
     "start_time": "2025-01-06T20:42:42.286569Z"
    }
   },
   "outputs": [],
   "source": [
    "import os\n",
    "import subprocess\n",
    "SUBPROCESS_ENV = os.environ.copy()\n",
    "\n",
    "if 'google.colab' in sys.modules:\n",
    "    !apt-get install -qq ghostscript\n",
    "    !wget -nv \"https://paraview.org/paraview-downloads/download.php?submit=Download&version=v5.13&type=binary&os=Linux&downloadFile=ParaView-5.13.1-egl-MPI-Linux-Python3.10-x86_64.tar.gz\" -O paraview.tar.gz\n",
    "    !tar xzf paraview.tar.gz\n",
    "    SUBPROCESS_ENV['PATH'] += ':' + subprocess.check_output(['bash', '-c', \"echo `pwd`/`dirname ParaView*/bin/pvpython`\"], text=True)[:-1]\n",
    "    \n",
    "    # check if Ghostscript's ps2pdf works\n",
    "    assert subprocess.check_call(['type', 'ps2pdf'], shell=True) == 0\n",
    "    \n",
    "# check if Paraview's pvpython works\n",
    "assert subprocess.check_call(['pvpython', '--version'], env=SUBPROCESS_ENV) == 0\n",
    "assert subprocess.check_call(['pvpython', '-c', 'import paraview'], env=SUBPROCESS_ENV) == 0"
   ]
  },
  {
   "cell_type": "code",
   "execution_count": 5,
   "id": "ee889545",
   "metadata": {
    "ExecuteTime": {
     "end_time": "2025-01-06T20:42:48.845075Z",
     "start_time": "2025-01-06T20:42:48.842291Z"
    }
   },
   "outputs": [],
   "source": [
    "from PySDM_examples.Arabas_et_al_2015 import Settings, SpinUp\n",
    "from PySDM_examples.Szumowski_et_al_1998 import Simulation, Storage\n",
    "from PySDM.exporters import VTKExporter\n",
    "from PySDM_examples.utils import ProgBarController\n",
    "from PySDM import products as PySDM_products\n",
    "import glob\n",
    "import platform"
   ]
  },
  {
   "cell_type": "code",
   "execution_count": 6,
   "id": "f0d2581f",
   "metadata": {
    "ExecuteTime": {
     "end_time": "2025-01-06T20:42:49.673689Z",
     "start_time": "2025-01-06T20:42:49.664256Z"
    }
   },
   "outputs": [],
   "source": [
    "products = [\n",
    "    PySDM_products.EffectiveRadius(unit='um'),\n",
    "    PySDM_products.FlowVelocityComponent(component = 0, name = 'cx'),\n",
    "    PySDM_products.FlowVelocityComponent(component = 1, name = 'cy')\n",
    "]"
   ]
  },
  {
   "cell_type": "markdown",
   "id": "25232d9f",
   "metadata": {},
   "source": [
    "##### 1. run a simulations saving output to VTK files"
   ]
  },
  {
   "cell_type": "code",
   "execution_count": 8,
   "id": "74c00944",
   "metadata": {
    "ExecuteTime": {
     "end_time": "2025-01-06T20:43:31.937868Z",
     "start_time": "2025-01-06T20:42:51.814553Z"
    }
   },
   "outputs": [
    {
     "data": {
      "application/vnd.jupyter.widget-view+json": {
       "model_id": "f4b3a17b56d44bc38ed8f5c6e65b6cd5",
       "version_major": 2,
       "version_minor": 0
      },
      "text/plain": [
       "FloatProgress(value=0.0, description='progress:', max=1.0)"
      ]
     },
     "metadata": {},
     "output_type": "display_data"
    }
   ],
   "source": [
    "settings = Settings()\n",
    "storage = Storage()\n",
    "simulation = Simulation(settings, storage, SpinUp=SpinUp)\n",
    "simulation.reinit(products)\n",
    "\n",
    "vtk_exporter = VTKExporter(path='.')    \n",
    "\n",
    "simulation.run(ProgBarController(\"progress:\"), vtk_exporter=vtk_exporter)\n",
    "vtk_exporter.write_pvd()"
   ]
  },
  {
   "cell_type": "markdown",
   "id": "066f9c18",
   "metadata": {},
   "source": [
    "#### 2. execute the script using `pvpython`"
   ]
  },
  {
   "cell_type": "code",
   "execution_count": 10,
   "id": "23e0cf61",
   "metadata": {
    "ExecuteTime": {
     "end_time": "2025-01-06T20:44:32.623050Z",
     "start_time": "2025-01-06T20:44:22.257021Z"
    }
   },
   "outputs": [
    {
     "name": "stdout",
     "output_type": "stream",
     "text": [
      "VisRTX 0.1.6, using devices:\n",
      " 0: NVIDIA GeForce RTX 4050 Laptop GPU (Total: 6.4 GB, Available: 5.3 GB)\n",
      "\n",
      "\n"
     ]
    }
   ],
   "source": [
    "product = \"./output/sd_products.pvd\"\n",
    "attributes = \"./output/sd_attributes.pvd\"\n",
    "pvanim = \"../utils/pvanim.py\"\n",
    "try:\n",
    "    result = subprocess.run([\"pvpython\",\n",
    "                 str(pvanim),\n",
    "                 str(product), \n",
    "                 str(attributes) ,\n",
    "                 ], check=platform.system() != 'Windows', capture_output=True, text=True, env=SUBPROCESS_ENV)\n",
    "except CalledProcessError:\n",
    "    print(f'{result.stdout=}')\n",
    "    print(f'{result.stderr=}')"
   ]
  },
  {
   "cell_type": "markdown",
   "id": "8a95f135",
   "metadata": {},
   "source": [
    "#### 3. reduce file size for generated pdf files"
   ]
  },
  {
   "cell_type": "code",
   "execution_count": 12,
   "id": "3e170fdc",
   "metadata": {
    "ExecuteTime": {
     "end_time": "2025-01-06T20:44:32.623050Z",
     "start_time": "2025-01-06T20:44:22.257021Z"
    }
   },
   "outputs": [],
   "source": [
    "if platform.system() != 'Windows':\n",
    "    for file in glob.glob('output/anim_frame_*.pdf'):\n",
    "        subprocess.run(['ps2pdf', file, file+'_'], capture_output=True, check=True)\n",
    "        subprocess.run(['mv', file+'_', file], check=True)"
   ]
  },
  {
   "cell_type": "code",
   "execution_count": null,
   "id": "9d3e4a35",
   "metadata": {
    "ExecuteTime": {
     "end_time": "2025-01-06T20:42:10.669031Z",
     "start_time": "2025-01-06T20:42:10.667667Z"
    }
   },
   "outputs": [],
   "source": []
  }
 ],
 "metadata": {
  "kernelspec": {
   "display_name": "Python 3 (ipykernel)",
   "language": "python",
   "name": "python3"
  },
  "language_info": {
   "codemirror_mode": {
    "name": "ipython",
    "version": 3
   },
   "file_extension": ".py",
   "mimetype": "text/x-python",
   "name": "python",
   "nbconvert_exporter": "python",
   "pygments_lexer": "ipython3",
   "version": "3.12.3"
  },
  "vscode": {
   "interpreter": {
    "hash": "b43cf254c70d60c2e21a7f71ba113e70c1694742e72407132919c841d907074b"
   }
  }
 },
 "nbformat": 4,
 "nbformat_minor": 5
}
